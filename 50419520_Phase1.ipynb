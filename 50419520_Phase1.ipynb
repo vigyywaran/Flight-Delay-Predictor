{
  "nbformat": 4,
  "nbformat_minor": 0,
  "metadata": {
    "colab": {
      "provenance": [],
      "collapsed_sections": []
    },
    "kernelspec": {
      "name": "python3",
      "display_name": "Python 3"
    },
    "language_info": {
      "name": "python"
    }
  },
  "cells": [
    {
      "cell_type": "code",
      "execution_count": 1,
      "metadata": {
        "colab": {
          "base_uri": "https://localhost:8080/"
        },
        "id": "r62DkEFkJcXq",
        "outputId": "d059ab64-288c-477e-d453-db00256951ed"
      },
      "outputs": [
        {
          "output_type": "stream",
          "name": "stdout",
          "text": [
            "Mounted at mnt\n",
            "/content/mnt/My Drive/Colab Notebooks/DICProject\n"
          ]
        }
      ],
      "source": [
        "### Loading the Data into Google Colab \n",
        "import seaborn as sns\n",
        "import pandas as pd\n",
        "from google.colab import drive\n",
        "drive.mount(\"mnt\")\n",
        "%cd \"mnt/My Drive/Colab Notebooks/DICProject\""
      ]
    },
    {
      "cell_type": "code",
      "source": [
        "import matplotlib.pyplot as plt"
      ],
      "metadata": {
        "id": "x7ARyTfjg_jR"
      },
      "execution_count": 21,
      "outputs": []
    },
    {
      "cell_type": "code",
      "source": [
        "### Reading the CSV dataset using Pandas and displaying the original number of rows and columns\n",
        "df=pd.read_csv('2008.csv')\n",
        "df_2007=pd.read_csv('2007.csv')\n",
        "print (\"2008 CSV file details - \",df.shape)\n",
        "print (\"2007 CSV file detials - \",df_2007.shape)\n",
        "df = df.append(df_2007,ignore_index=True)\n",
        "print (\"Total dataframe details - \",df.shape)"
      ],
      "metadata": {
        "colab": {
          "base_uri": "https://localhost:8080/"
        },
        "id": "ApUhYxMjJ8B5",
        "outputId": "d797b120-137c-44c5-b6f0-6bc008c0a718"
      },
      "execution_count": 2,
      "outputs": [
        {
          "output_type": "stream",
          "name": "stdout",
          "text": [
            "2008 CSV file details -  (2389217, 29)\n",
            "2007 CSV file detials -  (7453215, 29)\n",
            "Total dataframe details -  (9842432, 29)\n"
          ]
        }
      ]
    },
    {
      "cell_type": "code",
      "source": [
        "### Removing Duplicated records in the CSV file and displaying the number of rows and columns - Datacleaning Step1\n",
        "deduplicate_df = df.drop_duplicates(keep='first')\n",
        "deduplicate_df.shape"
      ],
      "metadata": {
        "colab": {
          "base_uri": "https://localhost:8080/"
        },
        "id": "6pXTSYfCKKd8",
        "outputId": "542fbb25-4ef8-47f9-e3b8-c19c3ba21742"
      },
      "execution_count": 3,
      "outputs": [
        {
          "output_type": "execute_result",
          "data": {
            "text/plain": [
              "(9842401, 29)"
            ]
          },
          "metadata": {},
          "execution_count": 3
        }
      ]
    },
    {
      "cell_type": "code",
      "source": [
        "### Subsampling data to get data from only 2008 - Datacleaning Step2\n",
        "deduplicate_df = deduplicate_df.loc[deduplicate_df['Year']==2008]\n",
        "deduplicate_df.shape"
      ],
      "metadata": {
        "colab": {
          "base_uri": "https://localhost:8080/"
        },
        "id": "fTgfVRL6nxdV",
        "outputId": "a90e5057-f71f-4758-c6e5-60dd242e4a53"
      },
      "execution_count": 4,
      "outputs": [
        {
          "output_type": "execute_result",
          "data": {
            "text/plain": [
              "(2389213, 29)"
            ]
          },
          "metadata": {},
          "execution_count": 4
        }
      ]
    },
    {
      "cell_type": "code",
      "source": [
        "### Checking for Columns that have NaN values - EDA Step1\n",
        "for col in deduplicate_df.keys():\n",
        "  print (col)\n",
        "  print (deduplicate_df[col].isnull().sum())"
      ],
      "metadata": {
        "colab": {
          "base_uri": "https://localhost:8080/"
        },
        "id": "HsutxcPuQjEs",
        "outputId": "057f3ebc-0339-410f-de46-6e7e3f782fed"
      },
      "execution_count": 5,
      "outputs": [
        {
          "output_type": "stream",
          "name": "stdout",
          "text": [
            "Year\n",
            "0\n",
            "Month\n",
            "0\n",
            "DayofMonth\n",
            "0\n",
            "DayOfWeek\n",
            "0\n",
            "DepTime\n",
            "64442\n",
            "CRSDepTime\n",
            "0\n",
            "ArrTime\n",
            "70096\n",
            "CRSArrTime\n",
            "0\n",
            "UniqueCarrier\n",
            "0\n",
            "FlightNum\n",
            "0\n",
            "TailNum\n",
            "42452\n",
            "ActualElapsedTime\n",
            "70096\n",
            "CRSElapsedTime\n",
            "407\n",
            "AirTime\n",
            "70096\n",
            "ArrDelay\n",
            "70096\n",
            "DepDelay\n",
            "64442\n",
            "Origin\n",
            "0\n",
            "Dest\n",
            "0\n",
            "Distance\n",
            "0\n",
            "TaxiIn\n",
            "70096\n",
            "TaxiOut\n",
            "64442\n",
            "Cancelled\n",
            "0\n",
            "CancellationCode\n",
            "2324771\n",
            "Diverted\n",
            "0\n",
            "CarrierDelay\n",
            "1804632\n",
            "WeatherDelay\n",
            "1804632\n",
            "NASDelay\n",
            "1804632\n",
            "SecurityDelay\n",
            "1804632\n",
            "LateAircraftDelay\n",
            "1804632\n"
          ]
        }
      ]
    },
    {
      "cell_type": "code",
      "source": [
        "### Filling Nan Values with 0 for some of the columns - Datacleaning Step 3\n",
        "deduplicate_df['WeatherDelay'] = deduplicate_df['WeatherDelay'].fillna(0)\n",
        "deduplicate_df['CarrierDelay'] = deduplicate_df['CarrierDelay'].fillna(0)\n",
        "deduplicate_df['NASDelay'] = deduplicate_df['NASDelay'].fillna(0)\n",
        "deduplicate_df['LateAircraftDelay']=deduplicate_df['LateAircraftDelay'].fillna(0)\n",
        "deduplicate_df['SecurityDelay'] = deduplicate_df['SecurityDelay'].fillna(0)\n",
        "deduplicate_df['ArrDelay'] = deduplicate_df['ArrDelay'].fillna(0)"
      ],
      "metadata": {
        "id": "PjoymiasWxK_"
      },
      "execution_count": 6,
      "outputs": []
    },
    {
      "cell_type": "code",
      "source": [
        "### Checking if Cancelled Flights have an impact in the flight Delay or ArrDelay - EDA Step -2\n",
        "Cancelled_df = deduplicate_df.loc[deduplicate_df['Cancelled']==1]\n",
        "print (Cancelled_df.shape)\n",
        "col_name = ['WeatherDelay','CarrierDelay','NASDelay','LateAircraftDelay','SecurityDelay','ArrDelay']\n",
        "for c in col_name : \n",
        "  print (c)\n",
        "  Cancelled_check = Cancelled_df.loc[Cancelled_df[c]>0.0]\n",
        "  print (Cancelled_check)"
      ],
      "metadata": {
        "colab": {
          "base_uri": "https://localhost:8080/"
        },
        "id": "I0EsyjLhKjZq",
        "outputId": "7ce91c85-64f5-4048-a7d6-39bfcbb0f141"
      },
      "execution_count": 7,
      "outputs": [
        {
          "output_type": "stream",
          "name": "stdout",
          "text": [
            "(64442, 29)\n",
            "WeatherDelay\n",
            "Empty DataFrame\n",
            "Columns: [Year, Month, DayofMonth, DayOfWeek, DepTime, CRSDepTime, ArrTime, CRSArrTime, UniqueCarrier, FlightNum, TailNum, ActualElapsedTime, CRSElapsedTime, AirTime, ArrDelay, DepDelay, Origin, Dest, Distance, TaxiIn, TaxiOut, Cancelled, CancellationCode, Diverted, CarrierDelay, WeatherDelay, NASDelay, SecurityDelay, LateAircraftDelay]\n",
            "Index: []\n",
            "\n",
            "[0 rows x 29 columns]\n",
            "CarrierDelay\n",
            "Empty DataFrame\n",
            "Columns: [Year, Month, DayofMonth, DayOfWeek, DepTime, CRSDepTime, ArrTime, CRSArrTime, UniqueCarrier, FlightNum, TailNum, ActualElapsedTime, CRSElapsedTime, AirTime, ArrDelay, DepDelay, Origin, Dest, Distance, TaxiIn, TaxiOut, Cancelled, CancellationCode, Diverted, CarrierDelay, WeatherDelay, NASDelay, SecurityDelay, LateAircraftDelay]\n",
            "Index: []\n",
            "\n",
            "[0 rows x 29 columns]\n",
            "NASDelay\n",
            "Empty DataFrame\n",
            "Columns: [Year, Month, DayofMonth, DayOfWeek, DepTime, CRSDepTime, ArrTime, CRSArrTime, UniqueCarrier, FlightNum, TailNum, ActualElapsedTime, CRSElapsedTime, AirTime, ArrDelay, DepDelay, Origin, Dest, Distance, TaxiIn, TaxiOut, Cancelled, CancellationCode, Diverted, CarrierDelay, WeatherDelay, NASDelay, SecurityDelay, LateAircraftDelay]\n",
            "Index: []\n",
            "\n",
            "[0 rows x 29 columns]\n",
            "LateAircraftDelay\n",
            "Empty DataFrame\n",
            "Columns: [Year, Month, DayofMonth, DayOfWeek, DepTime, CRSDepTime, ArrTime, CRSArrTime, UniqueCarrier, FlightNum, TailNum, ActualElapsedTime, CRSElapsedTime, AirTime, ArrDelay, DepDelay, Origin, Dest, Distance, TaxiIn, TaxiOut, Cancelled, CancellationCode, Diverted, CarrierDelay, WeatherDelay, NASDelay, SecurityDelay, LateAircraftDelay]\n",
            "Index: []\n",
            "\n",
            "[0 rows x 29 columns]\n",
            "SecurityDelay\n",
            "Empty DataFrame\n",
            "Columns: [Year, Month, DayofMonth, DayOfWeek, DepTime, CRSDepTime, ArrTime, CRSArrTime, UniqueCarrier, FlightNum, TailNum, ActualElapsedTime, CRSElapsedTime, AirTime, ArrDelay, DepDelay, Origin, Dest, Distance, TaxiIn, TaxiOut, Cancelled, CancellationCode, Diverted, CarrierDelay, WeatherDelay, NASDelay, SecurityDelay, LateAircraftDelay]\n",
            "Index: []\n",
            "\n",
            "[0 rows x 29 columns]\n",
            "ArrDelay\n",
            "Empty DataFrame\n",
            "Columns: [Year, Month, DayofMonth, DayOfWeek, DepTime, CRSDepTime, ArrTime, CRSArrTime, UniqueCarrier, FlightNum, TailNum, ActualElapsedTime, CRSElapsedTime, AirTime, ArrDelay, DepDelay, Origin, Dest, Distance, TaxiIn, TaxiOut, Cancelled, CancellationCode, Diverted, CarrierDelay, WeatherDelay, NASDelay, SecurityDelay, LateAircraftDelay]\n",
            "Index: []\n",
            "\n",
            "[0 rows x 29 columns]\n"
          ]
        }
      ]
    },
    {
      "cell_type": "code",
      "source": [
        "### Removing rows of Flights with Cancelled == 1 - Data Cleaning Step 4\n",
        "### Cancelled Flights dont impact flight delay ( As seen in EDA Step 2 ) \n",
        "Non_Cancelled_df = deduplicate_df.loc[deduplicate_df['Cancelled']!=1]\n",
        "print (Non_Cancelled_df.shape)"
      ],
      "metadata": {
        "colab": {
          "base_uri": "https://localhost:8080/"
        },
        "id": "FJWbGrlUV2FV",
        "outputId": "2ecd9fda-7139-4019-e4ed-356863a3ca2b"
      },
      "execution_count": 8,
      "outputs": [
        {
          "output_type": "stream",
          "name": "stdout",
          "text": [
            "(2324771, 29)\n"
          ]
        }
      ]
    },
    {
      "cell_type": "code",
      "source": [
        "### Removing Columns - Cancelled and Cancellation Code - Data Cleaning Step 5\n",
        "Non_Cancelled_df = Non_Cancelled_df.drop(columns = ['Cancelled','CancellationCode'])\n",
        "print (Non_Cancelled_df.shape)"
      ],
      "metadata": {
        "colab": {
          "base_uri": "https://localhost:8080/"
        },
        "id": "baFE6tY2eLuI",
        "outputId": "62eeed5b-1a85-4bcc-8caf-05a36d4dea12"
      },
      "execution_count": 9,
      "outputs": [
        {
          "output_type": "stream",
          "name": "stdout",
          "text": [
            "(2324771, 27)\n"
          ]
        }
      ]
    },
    {
      "cell_type": "code",
      "source": [
        "### Checking if Diverted Flights have an impact in the flight Delay or ArrDelay - EDA Step -3\n",
        "Diverted_df = Non_Cancelled_df.loc[Non_Cancelled_df['Diverted']==1]\n",
        "print (Diverted_df.shape)\n",
        "col_name = ['WeatherDelay','CarrierDelay','NASDelay','LateAircraftDelay','SecurityDelay','ArrDelay']\n",
        "for c in col_name : \n",
        "  print (c)\n",
        "  Diverted_check = Diverted_df.loc[Diverted_df[c]>0.0]\n",
        "  print (Diverted_check)"
      ],
      "metadata": {
        "colab": {
          "base_uri": "https://localhost:8080/"
        },
        "id": "iy2eLxywX0cr",
        "outputId": "14b4582b-d3ee-4476-9ca6-32ac73a0cabe"
      },
      "execution_count": 10,
      "outputs": [
        {
          "output_type": "stream",
          "name": "stdout",
          "text": [
            "(5654, 27)\n",
            "WeatherDelay\n",
            "Empty DataFrame\n",
            "Columns: [Year, Month, DayofMonth, DayOfWeek, DepTime, CRSDepTime, ArrTime, CRSArrTime, UniqueCarrier, FlightNum, TailNum, ActualElapsedTime, CRSElapsedTime, AirTime, ArrDelay, DepDelay, Origin, Dest, Distance, TaxiIn, TaxiOut, Diverted, CarrierDelay, WeatherDelay, NASDelay, SecurityDelay, LateAircraftDelay]\n",
            "Index: []\n",
            "\n",
            "[0 rows x 27 columns]\n",
            "CarrierDelay\n",
            "Empty DataFrame\n",
            "Columns: [Year, Month, DayofMonth, DayOfWeek, DepTime, CRSDepTime, ArrTime, CRSArrTime, UniqueCarrier, FlightNum, TailNum, ActualElapsedTime, CRSElapsedTime, AirTime, ArrDelay, DepDelay, Origin, Dest, Distance, TaxiIn, TaxiOut, Diverted, CarrierDelay, WeatherDelay, NASDelay, SecurityDelay, LateAircraftDelay]\n",
            "Index: []\n",
            "\n",
            "[0 rows x 27 columns]\n",
            "NASDelay\n",
            "Empty DataFrame\n",
            "Columns: [Year, Month, DayofMonth, DayOfWeek, DepTime, CRSDepTime, ArrTime, CRSArrTime, UniqueCarrier, FlightNum, TailNum, ActualElapsedTime, CRSElapsedTime, AirTime, ArrDelay, DepDelay, Origin, Dest, Distance, TaxiIn, TaxiOut, Diverted, CarrierDelay, WeatherDelay, NASDelay, SecurityDelay, LateAircraftDelay]\n",
            "Index: []\n",
            "\n",
            "[0 rows x 27 columns]\n",
            "LateAircraftDelay\n",
            "Empty DataFrame\n",
            "Columns: [Year, Month, DayofMonth, DayOfWeek, DepTime, CRSDepTime, ArrTime, CRSArrTime, UniqueCarrier, FlightNum, TailNum, ActualElapsedTime, CRSElapsedTime, AirTime, ArrDelay, DepDelay, Origin, Dest, Distance, TaxiIn, TaxiOut, Diverted, CarrierDelay, WeatherDelay, NASDelay, SecurityDelay, LateAircraftDelay]\n",
            "Index: []\n",
            "\n",
            "[0 rows x 27 columns]\n",
            "SecurityDelay\n",
            "Empty DataFrame\n",
            "Columns: [Year, Month, DayofMonth, DayOfWeek, DepTime, CRSDepTime, ArrTime, CRSArrTime, UniqueCarrier, FlightNum, TailNum, ActualElapsedTime, CRSElapsedTime, AirTime, ArrDelay, DepDelay, Origin, Dest, Distance, TaxiIn, TaxiOut, Diverted, CarrierDelay, WeatherDelay, NASDelay, SecurityDelay, LateAircraftDelay]\n",
            "Index: []\n",
            "\n",
            "[0 rows x 27 columns]\n",
            "ArrDelay\n",
            "Empty DataFrame\n",
            "Columns: [Year, Month, DayofMonth, DayOfWeek, DepTime, CRSDepTime, ArrTime, CRSArrTime, UniqueCarrier, FlightNum, TailNum, ActualElapsedTime, CRSElapsedTime, AirTime, ArrDelay, DepDelay, Origin, Dest, Distance, TaxiIn, TaxiOut, Diverted, CarrierDelay, WeatherDelay, NASDelay, SecurityDelay, LateAircraftDelay]\n",
            "Index: []\n",
            "\n",
            "[0 rows x 27 columns]\n"
          ]
        }
      ]
    },
    {
      "cell_type": "code",
      "source": [
        "### Removing rows of Flights with Diverted == 1 - Data Cleaning Step 6\n",
        "### Diverted Flights dont impact flight delay ( As seen in EDA Step 3) \n",
        "Non_Cancelled_df\n",
        "Non_Diverted_df = Non_Cancelled_df.loc[Non_Cancelled_df['Diverted']!=1]\n",
        "print (Non_Diverted_df.shape)"
      ],
      "metadata": {
        "colab": {
          "base_uri": "https://localhost:8080/"
        },
        "id": "BZhNZ24eYP3n",
        "outputId": "8ab77cd8-f5fa-4191-da48-a4fa132f1583"
      },
      "execution_count": 11,
      "outputs": [
        {
          "output_type": "stream",
          "name": "stdout",
          "text": [
            "(2319117, 27)\n"
          ]
        }
      ]
    },
    {
      "cell_type": "code",
      "source": [
        "### Removing columns - Diverted - Data Cleaning Step 7\n",
        "Non_Diverted_df = Non_Diverted_df.drop(columns = ['Diverted'])\n",
        "print (Non_Diverted_df.shape)"
      ],
      "metadata": {
        "colab": {
          "base_uri": "https://localhost:8080/"
        },
        "id": "fU3YiJJAeuT3",
        "outputId": "c6ce213c-1014-4178-9155-205f25237b54"
      },
      "execution_count": 12,
      "outputs": [
        {
          "output_type": "stream",
          "name": "stdout",
          "text": [
            "(2319117, 26)\n"
          ]
        }
      ]
    },
    {
      "cell_type": "code",
      "source": [
        "### Aggregating the different Delays into a Total Delay- Data Cleaning Step 8\n",
        "Non_Diverted_df['TotalDelay'] = Non_Diverted_df['WeatherDelay']+Non_Diverted_df['CarrierDelay']+Non_Diverted_df['NASDelay']+Non_Diverted_df['LateAircraftDelay']+Non_Diverted_df['SecurityDelay']\n",
        "print (Non_Diverted_df.shape)"
      ],
      "metadata": {
        "colab": {
          "base_uri": "https://localhost:8080/"
        },
        "id": "WhOpwmvp2cD-",
        "outputId": "46527469-7aa6-44a5-a350-050fc55f4aea"
      },
      "execution_count": 13,
      "outputs": [
        {
          "output_type": "stream",
          "name": "stdout",
          "text": [
            "(2319117, 27)\n"
          ]
        }
      ]
    },
    {
      "cell_type": "code",
      "source": [
        "### Dropping the Different Delays present in previous step - Data Cleaning Step 9\n",
        "### NOTE - Different Delays are incorporated into TotalDelay in DataCleaning Step 8\n",
        "Non_Diverted_df = Non_Diverted_df.drop(columns = ['WeatherDelay','CarrierDelay','NASDelay','LateAircraftDelay','SecurityDelay'])\n",
        "print (Non_Diverted_df.shape)"
      ],
      "metadata": {
        "colab": {
          "base_uri": "https://localhost:8080/"
        },
        "id": "0LXgKwS03gmN",
        "outputId": "909697f0-a2f7-4e3a-eb3f-b32212e253dc"
      },
      "execution_count": 14,
      "outputs": [
        {
          "output_type": "stream",
          "name": "stdout",
          "text": [
            "(2319117, 22)\n"
          ]
        }
      ]
    },
    {
      "cell_type": "code",
      "source": [
        "### Dropping the Dayofthe week column - Deemed Not needed for Problem solving - Data Cleaning Step 10\n",
        "Cleaned_df = Non_Diverted_df.drop(columns=['DayOfWeek'])\n",
        "print (Cleaned_df.shape)"
      ],
      "metadata": {
        "colab": {
          "base_uri": "https://localhost:8080/"
        },
        "id": "JBmJ5-5_5hOW",
        "outputId": "d900d9c6-ef3c-42db-adf8-ff8f7d0a87d2"
      },
      "execution_count": 15,
      "outputs": [
        {
          "output_type": "stream",
          "name": "stdout",
          "text": [
            "(2319117, 21)\n"
          ]
        }
      ]
    },
    {
      "cell_type": "code",
      "source": [
        "### Understanding the Coorelation of some of the variables - EDA step -4\n",
        "df_heat = Cleaned_df.drop(columns = ['Year','Month','DayofMonth','UniqueCarrier','TailNum','Origin','Dest'])\n",
        "df_heat=df_heat.drop(columns=['DepTime','CRSDepTime','ArrTime','CRSArrTime'])\n",
        "sns.heatmap(df_heat.corr())"
      ],
      "metadata": {
        "colab": {
          "base_uri": "https://localhost:8080/",
          "height": 372
        },
        "id": "5e7sUytxeRl_",
        "outputId": "487704c9-adf4-41d7-864a-90e79eb41465"
      },
      "execution_count": 18,
      "outputs": [
        {
          "output_type": "execute_result",
          "data": {
            "text/plain": [
              "<matplotlib.axes._subplots.AxesSubplot at 0x7ff9dad25d10>"
            ]
          },
          "metadata": {},
          "execution_count": 18
        },
        {
          "output_type": "display_data",
          "data": {
            "text/plain": [
              "<Figure size 432x288 with 2 Axes>"
            ],
            "image/png": "[encoded data removed]"
          },
          "metadata": {
            "needs_background": "light"
          }
        }
      ]
    },
    {
      "cell_type": "code",
      "source": [
        "### Percentage of flights which arrived on time - EDA step-5\n",
        "on_time = df_heat.loc[df_heat[\"ArrDelay\"]<=0.0]\n",
        "print ((on_time.shape[0])*100/df_heat.shape[0])\n",
        "delayed = df_heat.loc[df_heat[\"ArrDelay\"]>0.0]\n",
        "print (delayed.shape[0]*100/df_heat.shape[0])"
      ],
      "metadata": {
        "colab": {
          "base_uri": "https://localhost:8080/"
        },
        "id": "PR5cc_-EfmeA",
        "outputId": "def2394d-91ad-4f71-a384-371c95d261d8"
      },
      "execution_count": 36,
      "outputs": [
        {
          "output_type": "stream",
          "name": "stdout",
          "text": [
            "52.17904055724657\n",
            "47.82095944275343\n"
          ]
        }
      ]
    },
    {
      "cell_type": "code",
      "source": [
        "### The Mean of various attributes for each FlightNumber - EDA Step6\n",
        "df_heat.groupby(['FlightNum']).mean()"
      ],
      "metadata": {
        "colab": {
          "base_uri": "https://localhost:8080/",
          "height": 455
        },
        "id": "97zob_8si4hd",
        "outputId": "2f7dce08-298a-4597-c43a-059cf00dffa1"
      },
      "execution_count": 34,
      "outputs": [
        {
          "output_type": "execute_result",
          "data": {
            "text/plain": [
              "           ActualElapsedTime  CRSElapsedTime     AirTime   ArrDelay  \\\n",
              "FlightNum                                                             \n",
              "1                 287.183201      290.212889  261.694424   3.588704   \n",
              "2                 223.038076      225.213761  201.915832   4.204409   \n",
              "3                 250.636435      253.415950  227.505082   4.186865   \n",
              "4                 167.065900      168.081226  144.273563   6.010728   \n",
              "5                 201.843580      202.811031  177.749548  10.358951   \n",
              "...                      ...             ...         ...        ...   \n",
              "8402              145.000000      150.000000  125.000000  -7.000000   \n",
              "8403              166.000000      165.000000  149.000000  17.000000   \n",
              "9002               51.000000       50.000000   19.000000  12.000000   \n",
              "9202               68.000000       70.000000   39.000000 -20.000000   \n",
              "9740              140.000000      110.000000   81.000000  55.000000   \n",
              "\n",
              "            DepDelay     Distance    TaxiIn    TaxiOut  TotalDelay  \n",
              "FlightNum                                                           \n",
              "1           6.618392  2039.306300  7.354815  18.133961   10.045619  \n",
              "2           6.380094  1697.252505  6.259853  14.862391    8.744155  \n",
              "3           6.966380  1797.916341  6.604378  16.526974   10.876466  \n",
              "4           7.026054  1131.592337  6.180843  16.611494    9.823755  \n",
              "5          11.326401  1297.093128  7.106691  16.987342   15.456600  \n",
              "...              ...          ...       ...        ...         ...  \n",
              "8402       -2.000000   997.000000  6.000000  14.000000    0.000000  \n",
              "8403       16.000000   997.000000  9.000000   8.000000   17.000000  \n",
              "9002       11.000000    30.000000  5.000000  27.000000    0.000000  \n",
              "9202      -18.000000   181.000000  4.000000  25.000000    0.000000  \n",
              "9740       25.000000   526.000000  8.000000  51.000000   55.000000  \n",
              "\n",
              "[7263 rows x 9 columns]"
            ],
            "text/html": [
              "\n",
              "  <div id=\"df-1ba8c25a-e608-4863-a0ea-b0c95d1ff1fa\">\n",
              "    <div class=\"colab-df-container\">\n",
              "      <div>\n",
              "<style scoped>\n",
              "    .dataframe tbody tr th:only-of-type {\n",
              "        vertical-align: middle;\n",
              "    }\n",
              "\n",
              "    .dataframe tbody tr th {\n",
              "        vertical-align: top;\n",
              "    }\n",
              "\n",
              "    .dataframe thead th {\n",
              "        text-align: right;\n",
              "    }\n",
              "</style>\n",
              "<table border=\"1\" class=\"dataframe\">\n",
              "  <thead>\n",
              "    <tr style=\"text-align: right;\">\n",
              "      <th></th>\n",
              "      <th>ActualElapsedTime</th>\n",
              "      <th>CRSElapsedTime</th>\n",
              "      <th>AirTime</th>\n",
              "      <th>ArrDelay</th>\n",
              "      <th>DepDelay</th>\n",
              "      <th>Distance</th>\n",
              "      <th>TaxiIn</th>\n",
              "      <th>TaxiOut</th>\n",
              "      <th>TotalDelay</th>\n",
              "    </tr>\n",
              "    <tr>\n",
              "      <th>FlightNum</th>\n",
              "      <th></th>\n",
              "      <th></th>\n",
              "      <th></th>\n",
              "      <th></th>\n",
              "      <th></th>\n",
              "      <th></th>\n",
              "      <th></th>\n",
              "      <th></th>\n",
              "      <th></th>\n",
              "    </tr>\n",
              "  </thead>\n",
              "  <tbody>\n",
              "    <tr>\n",
              "      <th>1</th>\n",
              "      <td>287.183201</td>\n",
              "      <td>290.212889</td>\n",
              "      <td>261.694424</td>\n",
              "      <td>3.588704</td>\n",
              "      <td>6.618392</td>\n",
              "      <td>2039.306300</td>\n",
              "      <td>7.354815</td>\n",
              "      <td>18.133961</td>\n",
              "      <td>10.045619</td>\n",
              "    </tr>\n",
              "    <tr>\n",
              "      <th>2</th>\n",
              "      <td>223.038076</td>\n",
              "      <td>225.213761</td>\n",
              "      <td>201.915832</td>\n",
              "      <td>4.204409</td>\n",
              "      <td>6.380094</td>\n",
              "      <td>1697.252505</td>\n",
              "      <td>6.259853</td>\n",
              "      <td>14.862391</td>\n",
              "      <td>8.744155</td>\n",
              "    </tr>\n",
              "    <tr>\n",
              "      <th>3</th>\n",
              "      <td>250.636435</td>\n",
              "      <td>253.415950</td>\n",
              "      <td>227.505082</td>\n",
              "      <td>4.186865</td>\n",
              "      <td>6.966380</td>\n",
              "      <td>1797.916341</td>\n",
              "      <td>6.604378</td>\n",
              "      <td>16.526974</td>\n",
              "      <td>10.876466</td>\n",
              "    </tr>\n",
              "    <tr>\n",
              "      <th>4</th>\n",
              "      <td>167.065900</td>\n",
              "      <td>168.081226</td>\n",
              "      <td>144.273563</td>\n",
              "      <td>6.010728</td>\n",
              "      <td>7.026054</td>\n",
              "      <td>1131.592337</td>\n",
              "      <td>6.180843</td>\n",
              "      <td>16.611494</td>\n",
              "      <td>9.823755</td>\n",
              "    </tr>\n",
              "    <tr>\n",
              "      <th>5</th>\n",
              "      <td>201.843580</td>\n",
              "      <td>202.811031</td>\n",
              "      <td>177.749548</td>\n",
              "      <td>10.358951</td>\n",
              "      <td>11.326401</td>\n",
              "      <td>1297.093128</td>\n",
              "      <td>7.106691</td>\n",
              "      <td>16.987342</td>\n",
              "      <td>15.456600</td>\n",
              "    </tr>\n",
              "    <tr>\n",
              "      <th>...</th>\n",
              "      <td>...</td>\n",
              "      <td>...</td>\n",
              "      <td>...</td>\n",
              "      <td>...</td>\n",
              "      <td>...</td>\n",
              "      <td>...</td>\n",
              "      <td>...</td>\n",
              "      <td>...</td>\n",
              "      <td>...</td>\n",
              "    </tr>\n",
              "    <tr>\n",
              "      <th>8402</th>\n",
              "      <td>145.000000</td>\n",
              "      <td>150.000000</td>\n",
              "      <td>125.000000</td>\n",
              "      <td>-7.000000</td>\n",
              "      <td>-2.000000</td>\n",
              "      <td>997.000000</td>\n",
              "      <td>6.000000</td>\n",
              "      <td>14.000000</td>\n",
              "      <td>0.000000</td>\n",
              "    </tr>\n",
              "    <tr>\n",
              "      <th>8403</th>\n",
              "      <td>166.000000</td>\n",
              "      <td>165.000000</td>\n",
              "      <td>149.000000</td>\n",
              "      <td>17.000000</td>\n",
              "      <td>16.000000</td>\n",
              "      <td>997.000000</td>\n",
              "      <td>9.000000</td>\n",
              "      <td>8.000000</td>\n",
              "      <td>17.000000</td>\n",
              "    </tr>\n",
              "    <tr>\n",
              "      <th>9002</th>\n",
              "      <td>51.000000</td>\n",
              "      <td>50.000000</td>\n",
              "      <td>19.000000</td>\n",
              "      <td>12.000000</td>\n",
              "      <td>11.000000</td>\n",
              "      <td>30.000000</td>\n",
              "      <td>5.000000</td>\n",
              "      <td>27.000000</td>\n",
              "      <td>0.000000</td>\n",
              "    </tr>\n",
              "    <tr>\n",
              "      <th>9202</th>\n",
              "      <td>68.000000</td>\n",
              "      <td>70.000000</td>\n",
              "      <td>39.000000</td>\n",
              "      <td>-20.000000</td>\n",
              "      <td>-18.000000</td>\n",
              "      <td>181.000000</td>\n",
              "      <td>4.000000</td>\n",
              "      <td>25.000000</td>\n",
              "      <td>0.000000</td>\n",
              "    </tr>\n",
              "    <tr>\n",
              "      <th>9740</th>\n",
              "      <td>140.000000</td>\n",
              "      <td>110.000000</td>\n",
              "      <td>81.000000</td>\n",
              "      <td>55.000000</td>\n",
              "      <td>25.000000</td>\n",
              "      <td>526.000000</td>\n",
              "      <td>8.000000</td>\n",
              "      <td>51.000000</td>\n",
              "      <td>55.000000</td>\n",
              "    </tr>\n",
              "  </tbody>\n",
              "</table>\n",
              "<p>7263 rows × 9 columns</p>\n",
              "</div>\n",
              "      <button class=\"colab-df-convert\" onclick=\"convertToInteractive('df-1ba8c25a-e608-4863-a0ea-b0c95d1ff1fa')\"\n",
              "              title=\"Convert this dataframe to an interactive table.\"\n",
              "              style=\"display:none;\">\n",
              "        \n",
              "  <svg xmlns=\"http://www.w3.org/2000/svg\" height=\"24px\"viewBox=\"0 0 24 24\"\n",
              "       width=\"24px\">\n",
              "    <path d=\"M0 0h24v24H0V0z\" fill=\"none\"/>\n",
              "    <path d=\"M18.56 5.44l.94 2.06.94-2.06 2.06-.94-2.06-.94-.94-2.06-.94 2.06-2.06.94zm-11 1L8.5 8.5l.94-2.06 2.06-.94-2.06-.94L8.5 2.5l-.94 2.06-2.06.94zm10 10l.94 2.06.94-2.06 2.06-.94-2.06-.94-.94-2.06-.94 2.06-2.06.94z\"/><path d=\"M17.41 7.96l-1.37-1.37c-.4-.4-.92-.59-1.43-.59-.52 0-1.04.2-1.43.59L10.3 9.45l-7.72 7.72c-.78.78-.78 2.05 0 2.83L4 21.41c.39.39.9.59 1.41.59.51 0 1.02-.2 1.41-.59l7.78-7.78 2.81-2.81c.8-.78.8-2.07 0-2.86zM5.41 20L4 18.59l7.72-7.72 1.47 1.35L5.41 20z\"/>\n",
              "  </svg>\n",
              "      </button>\n",
              "      \n",
              "  <style>\n",
              "    .colab-df-container {\n",
              "      display:flex;\n",
              "      flex-wrap:wrap;\n",
              "      gap: 12px;\n",
              "    }\n",
              "\n",
              "    .colab-df-convert {\n",
              "      background-color: #E8F0FE;\n",
              "      border: none;\n",
              "      border-radius: 50%;\n",
              "      cursor: pointer;\n",
              "      display: none;\n",
              "      fill: #1967D2;\n",
              "      height: 32px;\n",
              "      padding: 0 0 0 0;\n",
              "      width: 32px;\n",
              "    }\n",
              "\n",
              "    .colab-df-convert:hover {\n",
              "      background-color: #E2EBFA;\n",
              "      box-shadow: 0px 1px 2px rgba(60, 64, 67, 0.3), 0px 1px 3px 1px rgba(60, 64, 67, 0.15);\n",
              "      fill: #174EA6;\n",
              "    }\n",
              "\n",
              "    [theme=dark] .colab-df-convert {\n",
              "      background-color: #3B4455;\n",
              "      fill: #D2E3FC;\n",
              "    }\n",
              "\n",
              "    [theme=dark] .colab-df-convert:hover {\n",
              "      background-color: #434B5C;\n",
              "      box-shadow: 0px 1px 3px 1px rgba(0, 0, 0, 0.15);\n",
              "      filter: drop-shadow(0px 1px 2px rgba(0, 0, 0, 0.3));\n",
              "      fill: #FFFFFF;\n",
              "    }\n",
              "  </style>\n",
              "\n",
              "      <script>\n",
              "        const buttonEl =\n",
              "          document.querySelector('#df-1ba8c25a-e608-4863-a0ea-b0c95d1ff1fa button.colab-df-convert');\n",
              "        buttonEl.style.display =\n",
              "          google.colab.kernel.accessAllowed ? 'block' : 'none';\n",
              "\n",
              "        async function convertToInteractive(key) {\n",
              "          const element = document.querySelector('#df-1ba8c25a-e608-4863-a0ea-b0c95d1ff1fa');\n",
              "          const dataTable =\n",
              "            await google.colab.kernel.invokeFunction('convertToInteractive',\n",
              "                                                     [key], {});\n",
              "          if (!dataTable) return;\n",
              "\n",
              "          const docLinkHtml = 'Like what you see? Visit the ' +\n",
              "            '<a target=\"_blank\" href=https://colab.research.google.com/notebooks/data_table.ipynb>data table notebook</a>'\n",
              "            + ' to learn more about interactive tables.';\n",
              "          element.innerHTML = '';\n",
              "          dataTable['output_type'] = 'display_data';\n",
              "          await google.colab.output.renderOutput(dataTable, element);\n",
              "          const docLink = document.createElement('div');\n",
              "          docLink.innerHTML = docLinkHtml;\n",
              "          element.appendChild(docLink);\n",
              "        }\n",
              "      </script>\n",
              "    </div>\n",
              "  </div>\n",
              "  "
            ]
          },
          "metadata": {},
          "execution_count": 34
        }
      ]
    },
    {
      "cell_type": "code",
      "source": [
        "### The Min value of the attributes for each FlightNumber- EDA Step 7\n",
        "df_heat.groupby(['FlightNum']).min()"
      ],
      "metadata": {
        "colab": {
          "base_uri": "https://localhost:8080/",
          "height": 455
        },
        "id": "B2vuN7HCng2t",
        "outputId": "202444ad-bf8d-4a1a-fc62-acf7c139245d"
      },
      "execution_count": 39,
      "outputs": [
        {
          "output_type": "execute_result",
          "data": {
            "text/plain": [
              "           ActualElapsedTime  CRSElapsedTime  AirTime  ArrDelay  DepDelay  \\\n",
              "FlightNum                                                                   \n",
              "1                       42.0            50.0     22.0     -60.0     -18.0   \n",
              "2                       40.0            50.0     29.0     -41.0     -17.0   \n",
              "3                       29.0            37.0     18.0     -58.0     -20.0   \n",
              "4                       42.0            50.0     30.0     -63.0     -16.0   \n",
              "5                       50.0            60.0     39.0     -71.0     -16.0   \n",
              "...                      ...             ...      ...       ...       ...   \n",
              "8402                   145.0           150.0    125.0      -7.0      -2.0   \n",
              "8403                   166.0           165.0    149.0      17.0      16.0   \n",
              "9002                    51.0            50.0     19.0      12.0      11.0   \n",
              "9202                    68.0            70.0     39.0     -20.0     -18.0   \n",
              "9740                   140.0           110.0     81.0      55.0      25.0   \n",
              "\n",
              "           Distance  TaxiIn  TaxiOut  TotalDelay  \n",
              "FlightNum                                         \n",
              "1               187     1.0      3.0         0.0  \n",
              "2               181     2.0      3.0         0.0  \n",
              "3                84     1.0      5.0         0.0  \n",
              "4               180     1.0      4.0         0.0  \n",
              "5               239     1.0      5.0         0.0  \n",
              "...             ...     ...      ...         ...  \n",
              "8402            997     6.0     14.0         0.0  \n",
              "8403            997     9.0      8.0        17.0  \n",
              "9002             30     5.0     27.0         0.0  \n",
              "9202            181     4.0     25.0         0.0  \n",
              "9740            526     8.0     51.0        55.0  \n",
              "\n",
              "[7263 rows x 9 columns]"
            ],
            "text/html": [
              "\n",
              "  <div id=\"df-25014349-07db-4a79-b7e6-7515b13ed45d\">\n",
              "    <div class=\"colab-df-container\">\n",
              "      <div>\n",
              "<style scoped>\n",
              "    .dataframe tbody tr th:only-of-type {\n",
              "        vertical-align: middle;\n",
              "    }\n",
              "\n",
              "    .dataframe tbody tr th {\n",
              "        vertical-align: top;\n",
              "    }\n",
              "\n",
              "    .dataframe thead th {\n",
              "        text-align: right;\n",
              "    }\n",
              "</style>\n",
              "<table border=\"1\" class=\"dataframe\">\n",
              "  <thead>\n",
              "    <tr style=\"text-align: right;\">\n",
              "      <th></th>\n",
              "      <th>ActualElapsedTime</th>\n",
              "      <th>CRSElapsedTime</th>\n",
              "      <th>AirTime</th>\n",
              "      <th>ArrDelay</th>\n",
              "      <th>DepDelay</th>\n",
              "      <th>Distance</th>\n",
              "      <th>TaxiIn</th>\n",
              "      <th>TaxiOut</th>\n",
              "      <th>TotalDelay</th>\n",
              "    </tr>\n",
              "    <tr>\n",
              "      <th>FlightNum</th>\n",
              "      <th></th>\n",
              "      <th></th>\n",
              "      <th></th>\n",
              "      <th></th>\n",
              "      <th></th>\n",
              "      <th></th>\n",
              "      <th></th>\n",
              "      <th></th>\n",
              "      <th></th>\n",
              "    </tr>\n",
              "  </thead>\n",
              "  <tbody>\n",
              "    <tr>\n",
              "      <th>1</th>\n",
              "      <td>42.0</td>\n",
              "      <td>50.0</td>\n",
              "      <td>22.0</td>\n",
              "      <td>-60.0</td>\n",
              "      <td>-18.0</td>\n",
              "      <td>187</td>\n",
              "      <td>1.0</td>\n",
              "      <td>3.0</td>\n",
              "      <td>0.0</td>\n",
              "    </tr>\n",
              "    <tr>\n",
              "      <th>2</th>\n",
              "      <td>40.0</td>\n",
              "      <td>50.0</td>\n",
              "      <td>29.0</td>\n",
              "      <td>-41.0</td>\n",
              "      <td>-17.0</td>\n",
              "      <td>181</td>\n",
              "      <td>2.0</td>\n",
              "      <td>3.0</td>\n",
              "      <td>0.0</td>\n",
              "    </tr>\n",
              "    <tr>\n",
              "      <th>3</th>\n",
              "      <td>29.0</td>\n",
              "      <td>37.0</td>\n",
              "      <td>18.0</td>\n",
              "      <td>-58.0</td>\n",
              "      <td>-20.0</td>\n",
              "      <td>84</td>\n",
              "      <td>1.0</td>\n",
              "      <td>5.0</td>\n",
              "      <td>0.0</td>\n",
              "    </tr>\n",
              "    <tr>\n",
              "      <th>4</th>\n",
              "      <td>42.0</td>\n",
              "      <td>50.0</td>\n",
              "      <td>30.0</td>\n",
              "      <td>-63.0</td>\n",
              "      <td>-16.0</td>\n",
              "      <td>180</td>\n",
              "      <td>1.0</td>\n",
              "      <td>4.0</td>\n",
              "      <td>0.0</td>\n",
              "    </tr>\n",
              "    <tr>\n",
              "      <th>5</th>\n",
              "      <td>50.0</td>\n",
              "      <td>60.0</td>\n",
              "      <td>39.0</td>\n",
              "      <td>-71.0</td>\n",
              "      <td>-16.0</td>\n",
              "      <td>239</td>\n",
              "      <td>1.0</td>\n",
              "      <td>5.0</td>\n",
              "      <td>0.0</td>\n",
              "    </tr>\n",
              "    <tr>\n",
              "      <th>...</th>\n",
              "      <td>...</td>\n",
              "      <td>...</td>\n",
              "      <td>...</td>\n",
              "      <td>...</td>\n",
              "      <td>...</td>\n",
              "      <td>...</td>\n",
              "      <td>...</td>\n",
              "      <td>...</td>\n",
              "      <td>...</td>\n",
              "    </tr>\n",
              "    <tr>\n",
              "      <th>8402</th>\n",
              "      <td>145.0</td>\n",
              "      <td>150.0</td>\n",
              "      <td>125.0</td>\n",
              "      <td>-7.0</td>\n",
              "      <td>-2.0</td>\n",
              "      <td>997</td>\n",
              "      <td>6.0</td>\n",
              "      <td>14.0</td>\n",
              "      <td>0.0</td>\n",
              "    </tr>\n",
              "    <tr>\n",
              "      <th>8403</th>\n",
              "      <td>166.0</td>\n",
              "      <td>165.0</td>\n",
              "      <td>149.0</td>\n",
              "      <td>17.0</td>\n",
              "      <td>16.0</td>\n",
              "      <td>997</td>\n",
              "      <td>9.0</td>\n",
              "      <td>8.0</td>\n",
              "      <td>17.0</td>\n",
              "    </tr>\n",
              "    <tr>\n",
              "      <th>9002</th>\n",
              "      <td>51.0</td>\n",
              "      <td>50.0</td>\n",
              "      <td>19.0</td>\n",
              "      <td>12.0</td>\n",
              "      <td>11.0</td>\n",
              "      <td>30</td>\n",
              "      <td>5.0</td>\n",
              "      <td>27.0</td>\n",
              "      <td>0.0</td>\n",
              "    </tr>\n",
              "    <tr>\n",
              "      <th>9202</th>\n",
              "      <td>68.0</td>\n",
              "      <td>70.0</td>\n",
              "      <td>39.0</td>\n",
              "      <td>-20.0</td>\n",
              "      <td>-18.0</td>\n",
              "      <td>181</td>\n",
              "      <td>4.0</td>\n",
              "      <td>25.0</td>\n",
              "      <td>0.0</td>\n",
              "    </tr>\n",
              "    <tr>\n",
              "      <th>9740</th>\n",
              "      <td>140.0</td>\n",
              "      <td>110.0</td>\n",
              "      <td>81.0</td>\n",
              "      <td>55.0</td>\n",
              "      <td>25.0</td>\n",
              "      <td>526</td>\n",
              "      <td>8.0</td>\n",
              "      <td>51.0</td>\n",
              "      <td>55.0</td>\n",
              "    </tr>\n",
              "  </tbody>\n",
              "</table>\n",
              "<p>7263 rows × 9 columns</p>\n",
              "</div>\n",
              "      <button class=\"colab-df-convert\" onclick=\"convertToInteractive('df-25014349-07db-4a79-b7e6-7515b13ed45d')\"\n",
              "              title=\"Convert this dataframe to an interactive table.\"\n",
              "              style=\"display:none;\">\n",
              "        \n",
              "  <svg xmlns=\"http://www.w3.org/2000/svg\" height=\"24px\"viewBox=\"0 0 24 24\"\n",
              "       width=\"24px\">\n",
              "    <path d=\"M0 0h24v24H0V0z\" fill=\"none\"/>\n",
              "    <path d=\"M18.56 5.44l.94 2.06.94-2.06 2.06-.94-2.06-.94-.94-2.06-.94 2.06-2.06.94zm-11 1L8.5 8.5l.94-2.06 2.06-.94-2.06-.94L8.5 2.5l-.94 2.06-2.06.94zm10 10l.94 2.06.94-2.06 2.06-.94-2.06-.94-.94-2.06-.94 2.06-2.06.94z\"/><path d=\"M17.41 7.96l-1.37-1.37c-.4-.4-.92-.59-1.43-.59-.52 0-1.04.2-1.43.59L10.3 9.45l-7.72 7.72c-.78.78-.78 2.05 0 2.83L4 21.41c.39.39.9.59 1.41.59.51 0 1.02-.2 1.41-.59l7.78-7.78 2.81-2.81c.8-.78.8-2.07 0-2.86zM5.41 20L4 18.59l7.72-7.72 1.47 1.35L5.41 20z\"/>\n",
              "  </svg>\n",
              "      </button>\n",
              "      \n",
              "  <style>\n",
              "    .colab-df-container {\n",
              "      display:flex;\n",
              "      flex-wrap:wrap;\n",
              "      gap: 12px;\n",
              "    }\n",
              "\n",
              "    .colab-df-convert {\n",
              "      background-color: #E8F0FE;\n",
              "      border: none;\n",
              "      border-radius: 50%;\n",
              "      cursor: pointer;\n",
              "      display: none;\n",
              "      fill: #1967D2;\n",
              "      height: 32px;\n",
              "      padding: 0 0 0 0;\n",
              "      width: 32px;\n",
              "    }\n",
              "\n",
              "    .colab-df-convert:hover {\n",
              "      background-color: #E2EBFA;\n",
              "      box-shadow: 0px 1px 2px rgba(60, 64, 67, 0.3), 0px 1px 3px 1px rgba(60, 64, 67, 0.15);\n",
              "      fill: #174EA6;\n",
              "    }\n",
              "\n",
              "    [theme=dark] .colab-df-convert {\n",
              "      background-color: #3B4455;\n",
              "      fill: #D2E3FC;\n",
              "    }\n",
              "\n",
              "    [theme=dark] .colab-df-convert:hover {\n",
              "      background-color: #434B5C;\n",
              "      box-shadow: 0px 1px 3px 1px rgba(0, 0, 0, 0.15);\n",
              "      filter: drop-shadow(0px 1px 2px rgba(0, 0, 0, 0.3));\n",
              "      fill: #FFFFFF;\n",
              "    }\n",
              "  </style>\n",
              "\n",
              "      <script>\n",
              "        const buttonEl =\n",
              "          document.querySelector('#df-25014349-07db-4a79-b7e6-7515b13ed45d button.colab-df-convert');\n",
              "        buttonEl.style.display =\n",
              "          google.colab.kernel.accessAllowed ? 'block' : 'none';\n",
              "\n",
              "        async function convertToInteractive(key) {\n",
              "          const element = document.querySelector('#df-25014349-07db-4a79-b7e6-7515b13ed45d');\n",
              "          const dataTable =\n",
              "            await google.colab.kernel.invokeFunction('convertToInteractive',\n",
              "                                                     [key], {});\n",
              "          if (!dataTable) return;\n",
              "\n",
              "          const docLinkHtml = 'Like what you see? Visit the ' +\n",
              "            '<a target=\"_blank\" href=https://colab.research.google.com/notebooks/data_table.ipynb>data table notebook</a>'\n",
              "            + ' to learn more about interactive tables.';\n",
              "          element.innerHTML = '';\n",
              "          dataTable['output_type'] = 'display_data';\n",
              "          await google.colab.output.renderOutput(dataTable, element);\n",
              "          const docLink = document.createElement('div');\n",
              "          docLink.innerHTML = docLinkHtml;\n",
              "          element.appendChild(docLink);\n",
              "        }\n",
              "      </script>\n",
              "    </div>\n",
              "  </div>\n",
              "  "
            ]
          },
          "metadata": {},
          "execution_count": 39
        }
      ]
    },
    {
      "cell_type": "code",
      "source": [
        "### The number of fligths that exactly on time - EDA step 8\n",
        "zero_delay = df_heat.loc[df_heat['TotalDelay']==0.0]\n",
        "print (zero_delay.shape[0])"
      ],
      "metadata": {
        "colab": {
          "base_uri": "https://localhost:8080/"
        },
        "id": "p9W-v_XDpYuh",
        "outputId": "af1f394e-7da7-4a65-c8ba-d9fb89635d99"
      },
      "execution_count": 45,
      "outputs": [
        {
          "output_type": "stream",
          "name": "stdout",
          "text": [
            "1734536\n"
          ]
        }
      ]
    },
    {
      "cell_type": "code",
      "source": [
        "### The average flight delay across dataset - EDA Step 9\n",
        "avg_delay_df = df_heat.loc[df_heat[\"TotalDelay\"]>0]\n",
        "avg_delay = avg_delay_df[\"TotalDelay\"].mean()\n",
        "print (avg_delay)"
      ],
      "metadata": {
        "colab": {
          "base_uri": "https://localhost:8080/"
        },
        "id": "B5BWP9CcsTn8",
        "outputId": "8a6e6b3e-1a74-47ad-bb5e-f194594a7a44"
      },
      "execution_count": 48,
      "outputs": [
        {
          "output_type": "stream",
          "name": "stdout",
          "text": [
            "55.90687004880419\n"
          ]
        }
      ]
    },
    {
      "cell_type": "code",
      "source": [
        "### The number of flights that are delayed by more than 60 mins - EDA Step 10\n",
        "hour_delay = df_heat.loc[df_heat['TotalDelay']>=56]"
      ],
      "metadata": {
        "colab": {
          "base_uri": "https://localhost:8080/",
          "height": 424
        },
        "id": "QxcEtXCPreUQ",
        "outputId": "6ffe6e60-3780-4bd5-9d4a-2f4ee9a6ece7"
      },
      "execution_count": 44,
      "outputs": [
        {
          "output_type": "execute_result",
          "data": {
            "text/plain": [
              "         FlightNum  ActualElapsedTime  CRSElapsedTime  AirTime  ArrDelay  \\\n",
              "26            1192              263.0           255.0    250.0      63.0   \n",
              "35            1600              164.0           175.0    152.0     113.0   \n",
              "36            2100              168.0           175.0    153.0      79.0   \n",
              "39            1314              201.0           210.0    190.0     100.0   \n",
              "41             186               44.0            50.0     35.0     292.0   \n",
              "...            ...                ...             ...      ...       ...   \n",
              "2389073       1074              266.0           276.0    240.0      98.0   \n",
              "2389165       1163              107.0           115.0     88.0      91.0   \n",
              "2389166       1164              110.0           116.0     87.0      77.0   \n",
              "2389181       1179              105.0           112.0     81.0      81.0   \n",
              "2389182       1180               96.0           109.0     76.0      63.0   \n",
              "\n",
              "         DepDelay  Distance  TaxiIn  TaxiOut  TotalDelay  \n",
              "26           55.0      1642     5.0      8.0        63.0  \n",
              "35          124.0      1020     3.0      9.0       113.0  \n",
              "36           86.0      1020     6.0      9.0        79.0  \n",
              "39          109.0      1312     2.0      9.0       100.0  \n",
              "41          298.0       192     3.0      6.0       292.0  \n",
              "...           ...       ...     ...      ...         ...  \n",
              "2389073     108.0      2092    12.0     14.0        98.0  \n",
              "2389165      99.0       626     3.0     16.0        91.0  \n",
              "2389166      83.0       626     6.0     17.0        77.0  \n",
              "2389181      88.0       599     5.0     19.0        81.0  \n",
              "2389182      76.0       599     4.0     16.0        63.0  \n",
              "\n",
              "[173165 rows x 10 columns]"
            ],
            "text/html": [
              "\n",
              "  <div id=\"df-ff00706e-ad61-4665-b027-442fa14b2e42\">\n",
              "    <div class=\"colab-df-container\">\n",
              "      <div>\n",
              "<style scoped>\n",
              "    .dataframe tbody tr th:only-of-type {\n",
              "        vertical-align: middle;\n",
              "    }\n",
              "\n",
              "    .dataframe tbody tr th {\n",
              "        vertical-align: top;\n",
              "    }\n",
              "\n",
              "    .dataframe thead th {\n",
              "        text-align: right;\n",
              "    }\n",
              "</style>\n",
              "<table border=\"1\" class=\"dataframe\">\n",
              "  <thead>\n",
              "    <tr style=\"text-align: right;\">\n",
              "      <th></th>\n",
              "      <th>FlightNum</th>\n",
              "      <th>ActualElapsedTime</th>\n",
              "      <th>CRSElapsedTime</th>\n",
              "      <th>AirTime</th>\n",
              "      <th>ArrDelay</th>\n",
              "      <th>DepDelay</th>\n",
              "      <th>Distance</th>\n",
              "      <th>TaxiIn</th>\n",
              "      <th>TaxiOut</th>\n",
              "      <th>TotalDelay</th>\n",
              "    </tr>\n",
              "  </thead>\n",
              "  <tbody>\n",
              "    <tr>\n",
              "      <th>26</th>\n",
              "      <td>1192</td>\n",
              "      <td>263.0</td>\n",
              "      <td>255.0</td>\n",
              "      <td>250.0</td>\n",
              "      <td>63.0</td>\n",
              "      <td>55.0</td>\n",
              "      <td>1642</td>\n",
              "      <td>5.0</td>\n",
              "      <td>8.0</td>\n",
              "      <td>63.0</td>\n",
              "    </tr>\n",
              "    <tr>\n",
              "      <th>35</th>\n",
              "      <td>1600</td>\n",
              "      <td>164.0</td>\n",
              "      <td>175.0</td>\n",
              "      <td>152.0</td>\n",
              "      <td>113.0</td>\n",
              "      <td>124.0</td>\n",
              "      <td>1020</td>\n",
              "      <td>3.0</td>\n",
              "      <td>9.0</td>\n",
              "      <td>113.0</td>\n",
              "    </tr>\n",
              "    <tr>\n",
              "      <th>36</th>\n",
              "      <td>2100</td>\n",
              "      <td>168.0</td>\n",
              "      <td>175.0</td>\n",
              "      <td>153.0</td>\n",
              "      <td>79.0</td>\n",
              "      <td>86.0</td>\n",
              "      <td>1020</td>\n",
              "      <td>6.0</td>\n",
              "      <td>9.0</td>\n",
              "      <td>79.0</td>\n",
              "    </tr>\n",
              "    <tr>\n",
              "      <th>39</th>\n",
              "      <td>1314</td>\n",
              "      <td>201.0</td>\n",
              "      <td>210.0</td>\n",
              "      <td>190.0</td>\n",
              "      <td>100.0</td>\n",
              "      <td>109.0</td>\n",
              "      <td>1312</td>\n",
              "      <td>2.0</td>\n",
              "      <td>9.0</td>\n",
              "      <td>100.0</td>\n",
              "    </tr>\n",
              "    <tr>\n",
              "      <th>41</th>\n",
              "      <td>186</td>\n",
              "      <td>44.0</td>\n",
              "      <td>50.0</td>\n",
              "      <td>35.0</td>\n",
              "      <td>292.0</td>\n",
              "      <td>298.0</td>\n",
              "      <td>192</td>\n",
              "      <td>3.0</td>\n",
              "      <td>6.0</td>\n",
              "      <td>292.0</td>\n",
              "    </tr>\n",
              "    <tr>\n",
              "      <th>...</th>\n",
              "      <td>...</td>\n",
              "      <td>...</td>\n",
              "      <td>...</td>\n",
              "      <td>...</td>\n",
              "      <td>...</td>\n",
              "      <td>...</td>\n",
              "      <td>...</td>\n",
              "      <td>...</td>\n",
              "      <td>...</td>\n",
              "      <td>...</td>\n",
              "    </tr>\n",
              "    <tr>\n",
              "      <th>2389073</th>\n",
              "      <td>1074</td>\n",
              "      <td>266.0</td>\n",
              "      <td>276.0</td>\n",
              "      <td>240.0</td>\n",
              "      <td>98.0</td>\n",
              "      <td>108.0</td>\n",
              "      <td>2092</td>\n",
              "      <td>12.0</td>\n",
              "      <td>14.0</td>\n",
              "      <td>98.0</td>\n",
              "    </tr>\n",
              "    <tr>\n",
              "      <th>2389165</th>\n",
              "      <td>1163</td>\n",
              "      <td>107.0</td>\n",
              "      <td>115.0</td>\n",
              "      <td>88.0</td>\n",
              "      <td>91.0</td>\n",
              "      <td>99.0</td>\n",
              "      <td>626</td>\n",
              "      <td>3.0</td>\n",
              "      <td>16.0</td>\n",
              "      <td>91.0</td>\n",
              "    </tr>\n",
              "    <tr>\n",
              "      <th>2389166</th>\n",
              "      <td>1164</td>\n",
              "      <td>110.0</td>\n",
              "      <td>116.0</td>\n",
              "      <td>87.0</td>\n",
              "      <td>77.0</td>\n",
              "      <td>83.0</td>\n",
              "      <td>626</td>\n",
              "      <td>6.0</td>\n",
              "      <td>17.0</td>\n",
              "      <td>77.0</td>\n",
              "    </tr>\n",
              "    <tr>\n",
              "      <th>2389181</th>\n",
              "      <td>1179</td>\n",
              "      <td>105.0</td>\n",
              "      <td>112.0</td>\n",
              "      <td>81.0</td>\n",
              "      <td>81.0</td>\n",
              "      <td>88.0</td>\n",
              "      <td>599</td>\n",
              "      <td>5.0</td>\n",
              "      <td>19.0</td>\n",
              "      <td>81.0</td>\n",
              "    </tr>\n",
              "    <tr>\n",
              "      <th>2389182</th>\n",
              "      <td>1180</td>\n",
              "      <td>96.0</td>\n",
              "      <td>109.0</td>\n",
              "      <td>76.0</td>\n",
              "      <td>63.0</td>\n",
              "      <td>76.0</td>\n",
              "      <td>599</td>\n",
              "      <td>4.0</td>\n",
              "      <td>16.0</td>\n",
              "      <td>63.0</td>\n",
              "    </tr>\n",
              "  </tbody>\n",
              "</table>\n",
              "<p>173165 rows × 10 columns</p>\n",
              "</div>\n",
              "      <button class=\"colab-df-convert\" onclick=\"convertToInteractive('df-ff00706e-ad61-4665-b027-442fa14b2e42')\"\n",
              "              title=\"Convert this dataframe to an interactive table.\"\n",
              "              style=\"display:none;\">\n",
              "        \n",
              "  <svg xmlns=\"http://www.w3.org/2000/svg\" height=\"24px\"viewBox=\"0 0 24 24\"\n",
              "       width=\"24px\">\n",
              "    <path d=\"M0 0h24v24H0V0z\" fill=\"none\"/>\n",
              "    <path d=\"M18.56 5.44l.94 2.06.94-2.06 2.06-.94-2.06-.94-.94-2.06-.94 2.06-2.06.94zm-11 1L8.5 8.5l.94-2.06 2.06-.94-2.06-.94L8.5 2.5l-.94 2.06-2.06.94zm10 10l.94 2.06.94-2.06 2.06-.94-2.06-.94-.94-2.06-.94 2.06-2.06.94z\"/><path d=\"M17.41 7.96l-1.37-1.37c-.4-.4-.92-.59-1.43-.59-.52 0-1.04.2-1.43.59L10.3 9.45l-7.72 7.72c-.78.78-.78 2.05 0 2.83L4 21.41c.39.39.9.59 1.41.59.51 0 1.02-.2 1.41-.59l7.78-7.78 2.81-2.81c.8-.78.8-2.07 0-2.86zM5.41 20L4 18.59l7.72-7.72 1.47 1.35L5.41 20z\"/>\n",
              "  </svg>\n",
              "      </button>\n",
              "      \n",
              "  <style>\n",
              "    .colab-df-container {\n",
              "      display:flex;\n",
              "      flex-wrap:wrap;\n",
              "      gap: 12px;\n",
              "    }\n",
              "\n",
              "    .colab-df-convert {\n",
              "      background-color: #E8F0FE;\n",
              "      border: none;\n",
              "      border-radius: 50%;\n",
              "      cursor: pointer;\n",
              "      display: none;\n",
              "      fill: #1967D2;\n",
              "      height: 32px;\n",
              "      padding: 0 0 0 0;\n",
              "      width: 32px;\n",
              "    }\n",
              "\n",
              "    .colab-df-convert:hover {\n",
              "      background-color: #E2EBFA;\n",
              "      box-shadow: 0px 1px 2px rgba(60, 64, 67, 0.3), 0px 1px 3px 1px rgba(60, 64, 67, 0.15);\n",
              "      fill: #174EA6;\n",
              "    }\n",
              "\n",
              "    [theme=dark] .colab-df-convert {\n",
              "      background-color: #3B4455;\n",
              "      fill: #D2E3FC;\n",
              "    }\n",
              "\n",
              "    [theme=dark] .colab-df-convert:hover {\n",
              "      background-color: #434B5C;\n",
              "      box-shadow: 0px 1px 3px 1px rgba(0, 0, 0, 0.15);\n",
              "      filter: drop-shadow(0px 1px 2px rgba(0, 0, 0, 0.3));\n",
              "      fill: #FFFFFF;\n",
              "    }\n",
              "  </style>\n",
              "\n",
              "      <script>\n",
              "        const buttonEl =\n",
              "          document.querySelector('#df-ff00706e-ad61-4665-b027-442fa14b2e42 button.colab-df-convert');\n",
              "        buttonEl.style.display =\n",
              "          google.colab.kernel.accessAllowed ? 'block' : 'none';\n",
              "\n",
              "        async function convertToInteractive(key) {\n",
              "          const element = document.querySelector('#df-ff00706e-ad61-4665-b027-442fa14b2e42');\n",
              "          const dataTable =\n",
              "            await google.colab.kernel.invokeFunction('convertToInteractive',\n",
              "                                                     [key], {});\n",
              "          if (!dataTable) return;\n",
              "\n",
              "          const docLinkHtml = 'Like what you see? Visit the ' +\n",
              "            '<a target=\"_blank\" href=https://colab.research.google.com/notebooks/data_table.ipynb>data table notebook</a>'\n",
              "            + ' to learn more about interactive tables.';\n",
              "          element.innerHTML = '';\n",
              "          dataTable['output_type'] = 'display_data';\n",
              "          await google.colab.output.renderOutput(dataTable, element);\n",
              "          const docLink = document.createElement('div');\n",
              "          docLink.innerHTML = docLinkHtml;\n",
              "          element.appendChild(docLink);\n",
              "        }\n",
              "      </script>\n",
              "    </div>\n",
              "  </div>\n",
              "  "
            ]
          },
          "metadata": {},
          "execution_count": 44
        }
      ]
    }
  ]
}