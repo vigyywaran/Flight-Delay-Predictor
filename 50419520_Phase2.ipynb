{
  "cells": [
    {
      "cell_type": "code",
      "execution_count": 1,
      "metadata": {
        "colab": {
          "base_uri": "https://localhost:8080/"
        },
        "id": "Efdg1VkvLdpn",
        "outputId": "9fb57a65-4724-4336-960b-6ea51c03088d"
      },
      "outputs": [
        {
          "name": "stdout",
          "output_type": "stream",
          "text": [
            "Drive already mounted at mnt; to attempt to forcibly remount, call drive.mount(\"mnt\", force_remount=True).\n",
            "/content/mnt/My Drive/Colab Notebooks/DICProject\n"
          ]
        }
      ],
      "source": [
        "import sklearn\n",
        "import pandas as pd\n",
        "import numpy as np\n",
        "from google.colab import drive\n",
        "drive.mount(\"mnt\")\n",
        "%cd \"mnt/My Drive/Colab Notebooks/DICProject\""
      ]
    },
    {
      "cell_type": "code",
      "execution_count": 2,
      "metadata": {
        "colab": {
          "base_uri": "https://localhost:8080/"
        },
        "id": "aJVQvgolLloo",
        "outputId": "3d4b6273-d0b0-4d22-af38-65987d699802"
      },
      "outputs": [
        {
          "name": "stderr",
          "output_type": "stream",
          "text": [
            "/usr/local/lib/python3.7/dist-packages/ipykernel_launcher.py:3: SettingWithCopyWarning: \n",
            "A value is trying to be set on a copy of a slice from a DataFrame.\n",
            "Try using .loc[row_indexer,col_indexer] = value instead\n",
            "\n",
            "See the caveats in the documentation: https://pandas.pydata.org/pandas-docs/stable/user_guide/indexing.html#returning-a-view-versus-a-copy\n",
            "  This is separate from the ipykernel package so we can avoid doing imports until\n",
            "/usr/local/lib/python3.7/dist-packages/ipykernel_launcher.py:4: SettingWithCopyWarning: \n",
            "A value is trying to be set on a copy of a slice from a DataFrame.\n",
            "Try using .loc[row_indexer,col_indexer] = value instead\n",
            "\n",
            "See the caveats in the documentation: https://pandas.pydata.org/pandas-docs/stable/user_guide/indexing.html#returning-a-view-versus-a-copy\n",
            "  after removing the cwd from sys.path.\n",
            "/usr/local/lib/python3.7/dist-packages/ipykernel_launcher.py:5: SettingWithCopyWarning: \n",
            "A value is trying to be set on a copy of a slice from a DataFrame.\n",
            "Try using .loc[row_indexer,col_indexer] = value instead\n",
            "\n",
            "See the caveats in the documentation: https://pandas.pydata.org/pandas-docs/stable/user_guide/indexing.html#returning-a-view-versus-a-copy\n",
            "  \"\"\"\n",
            "/usr/local/lib/python3.7/dist-packages/ipykernel_launcher.py:6: SettingWithCopyWarning: \n",
            "A value is trying to be set on a copy of a slice from a DataFrame.\n",
            "Try using .loc[row_indexer,col_indexer] = value instead\n",
            "\n",
            "See the caveats in the documentation: https://pandas.pydata.org/pandas-docs/stable/user_guide/indexing.html#returning-a-view-versus-a-copy\n",
            "  \n",
            "/usr/local/lib/python3.7/dist-packages/ipykernel_launcher.py:7: SettingWithCopyWarning: \n",
            "A value is trying to be set on a copy of a slice from a DataFrame.\n",
            "Try using .loc[row_indexer,col_indexer] = value instead\n",
            "\n",
            "See the caveats in the documentation: https://pandas.pydata.org/pandas-docs/stable/user_guide/indexing.html#returning-a-view-versus-a-copy\n",
            "  import sys\n",
            "/usr/local/lib/python3.7/dist-packages/ipykernel_launcher.py:8: SettingWithCopyWarning: \n",
            "A value is trying to be set on a copy of a slice from a DataFrame.\n",
            "Try using .loc[row_indexer,col_indexer] = value instead\n",
            "\n",
            "See the caveats in the documentation: https://pandas.pydata.org/pandas-docs/stable/user_guide/indexing.html#returning-a-view-versus-a-copy\n",
            "  \n"
          ]
        }
      ],
      "source": [
        "### Datacleaning and preprcoessing from Phase 1\n",
        "df=pd.read_csv('2008.csv')\n",
        "deduplicate_df = df.drop_duplicates(keep='first')\n",
        "deduplicate_df['WeatherDelay'] = deduplicate_df['WeatherDelay'].fillna(0)\n",
        "deduplicate_df['CarrierDelay'] = deduplicate_df['CarrierDelay'].fillna(0)\n",
        "deduplicate_df['NASDelay'] = deduplicate_df['NASDelay'].fillna(0)\n",
        "deduplicate_df['LateAircraftDelay']=deduplicate_df['LateAircraftDelay'].fillna(0)\n",
        "deduplicate_df['SecurityDelay'] = deduplicate_df['SecurityDelay'].fillna(0)\n",
        "deduplicate_df['ArrDelay'] = deduplicate_df['ArrDelay'].fillna(0)\n",
        "Cancelled_df = deduplicate_df.loc[deduplicate_df['Cancelled']==1]\n",
        "Non_Cancelled_df = deduplicate_df.loc[deduplicate_df['Cancelled']!=1]\n",
        "Non_Cancelled_df = Non_Cancelled_df.drop(columns = ['Cancelled','CancellationCode'])\n",
        "Non_Diverted_df = Non_Cancelled_df.loc[Non_Cancelled_df['Diverted']!=1]\n",
        "Non_Diverted_df = Non_Diverted_df.drop(columns = ['Diverted'])\n",
        "Non_Diverted_df['TotalDelay'] = Non_Diverted_df['WeatherDelay']+Non_Diverted_df['CarrierDelay']+Non_Diverted_df['NASDelay']+Non_Diverted_df['LateAircraftDelay']+Non_Diverted_df['SecurityDelay']\n",
        "Non_Diverted_df = Non_Diverted_df.drop(columns = ['WeatherDelay','CarrierDelay','NASDelay','LateAircraftDelay','SecurityDelay'])\n",
        "Cleaned_df = Non_Diverted_df.drop(columns=['DayOfWeek'])\n",
        "Cleaned_df = Cleaned_df.drop(columns = ['Year','Month','DayofMonth','UniqueCarrier','TailNum','Origin','Dest'])"
      ]
    },
    {
      "cell_type": "code",
      "execution_count": 3,
      "metadata": {
        "id": "-UgEMNSeXoN1"
      },
      "outputs": [],
      "source": [
        "### Splitting Data into Dependent and Independent variables\n",
        "from numpy.core.fromnumeric import shape\n",
        "from sklearn.model_selection import train_test_split\n",
        "Y = Cleaned_df[\"TotalDelay\"]\n",
        "X = Cleaned_df.loc[:,Cleaned_df.columns!=\"TotalDelay\"]\n",
        "from sklearn.model_selection import train_test_split\n",
        "X_Train,X_Test,Y_Train,Y_Test = train_test_split(X,Y,test_size=0.2)"
      ]
    },
    {
      "cell_type": "code",
      "execution_count": 4,
      "metadata": {
        "colab": {
          "base_uri": "https://localhost:8080/"
        },
        "id": "4SSxG2OLOoN-",
        "outputId": "a82a39bd-2c53-4f96-a60b-1004c5211b32"
      },
      "outputs": [
        {
          "name": "stdout",
          "output_type": "stream",
          "text": [
            "5.722795438180158\n"
          ]
        }
      ],
      "source": [
        "### Linear Regression - Model 1\n",
        "from sklearn.linear_model import LinearRegression\n",
        "linear_reg=LinearRegression()\n",
        "linear_reg.fit(X_Train,Y_Train)\n",
        "linear_reg.score(X_Train,Y_Train)\n",
        "Y_pred_linear = linear_reg.predict(X_Test)\n",
        "linear_reg.score (X_Test,Y_Test)\n",
        "from sklearn import metrics\n",
        "mae_linear = metrics.mean_absolute_error(Y_Test,Y_pred_linear)\n",
        "print (mae_linear)"
      ]
    },
    {
      "cell_type": "code",
      "execution_count": 5,
      "metadata": {
        "colab": {
          "base_uri": "https://localhost:8080/",
          "height": 265
        },
        "id": "_OxzoMHdSuMr",
        "outputId": "5eea10cd-7490-488d-9227-e7e3add3654b"
      },
      "outputs": [
        {
          "data": {
            "image/png": "[encoded data removed]",
            "text/plain": [
              "<Figure size 432x288 with 1 Axes>"
            ]
          },
          "metadata": {
            "needs_background": "light"
          },
          "output_type": "display_data"
        }
      ],
      "source": [
        "#import seaborn as sns\n",
        "import matplotlib.pyplot as plt\n",
        "plt.scatter(X_Test[\"ArrDelay\"],Y_Test,color='b')\n",
        "plt.plot(X_Test[\"ArrDelay\"],Y_pred_linear,color='k')\n",
        "plt.show()"
      ]
    },
    {
      "cell_type": "code",
      "execution_count": 6,
      "metadata": {
        "colab": {
          "base_uri": "https://localhost:8080/"
        },
        "id": "buucwrkrPI4w",
        "outputId": "c062f175-6780-42eb-e254-b9e40a19e87f"
      },
      "outputs": [
        {
          "name": "stderr",
          "output_type": "stream",
          "text": [
            "/usr/local/lib/python3.7/dist-packages/sklearn/linear_model/_base.py:155: FutureWarning: 'normalize' was deprecated in version 1.0 and will be removed in 1.2. Please leave the normalize parameter to its default value to silence this warning. The default behavior of this estimator is to not do any normalization. If normalization is needed please use sklearn.preprocessing.StandardScaler instead.\n",
            "  FutureWarning,\n"
          ]
        },
        {
          "name": "stdout",
          "output_type": "stream",
          "text": [
            "5.7541615670314945\n"
          ]
        }
      ],
      "source": [
        "### Lasso Regression - Model 2\n",
        "from sklearn.preprocessing import StandardScaler\n",
        "from sklearn.model_selection import train_test_split\n",
        "from sklearn.linear_model import Lasso\n",
        "std_scale = StandardScaler()\n",
        "X=std_scale.fit_transform(X)\n",
        "X_Train,X_Test,Y_Train, Y_Test = train_test_split(X,Y,test_size=0.2)\n",
        "lasso = Lasso(alpha=0.01,normalize=False)\n",
        "lasso.fit(X_Train,Y_Train)\n",
        "Y_Pred_lasso = lasso.predict(X_Test)\n",
        "lasso.score(X_Test,Y_Test)\n",
        "from sklearn import metrics\n",
        "mae_lasso = metrics.mean_absolute_error(Y_Test,Y_Pred_lasso)\n",
        "print (mae_lasso)"
      ]
    },
    {
      "cell_type": "code",
      "execution_count": 30,
      "metadata": {
        "colab": {
          "base_uri": "https://localhost:8080/",
          "height": 269
        },
        "id": "Msl1odb1X699",
        "outputId": "12694ea0-a4f7-4f14-d986-b9427e301dd9"
      },
      "outputs": [
        {
          "data": {
            "image/png": "[encoded data removed]",
            "text/plain": [
              "<Figure size 432x288 with 1 Axes>"
            ]
          },
          "metadata": {
            "needs_background": "light"
          },
          "output_type": "display_data"
        }
      ],
      "source": [
        "import matplotlib.pyplot as plt\n",
        "plt.scatter(X_Test[:,8],Y_Test,color='b')\n",
        "plt.plot(X_Test[:,8],Y_Pred_lasso,color='k')\n",
        "plt.show()"
      ]
    },
    {
      "cell_type": "code",
      "execution_count": 31,
      "metadata": {
        "colab": {
          "base_uri": "https://localhost:8080/"
        },
        "id": "_A5aV-cHPEcq",
        "outputId": "aad38161-1750-4440-df4f-f75220da4ce2"
      },
      "outputs": [
        {
          "name": "stderr",
          "output_type": "stream",
          "text": [
            "/usr/local/lib/python3.7/dist-packages/sklearn/linear_model/_base.py:155: FutureWarning: 'normalize' was deprecated in version 1.0 and will be removed in 1.2. Please leave the normalize parameter to its default value to silence this warning. The default behavior of this estimator is to not do any normalization. If normalization is needed please use sklearn.preprocessing.StandardScaler instead.\n",
            "  FutureWarning,\n"
          ]
        },
        {
          "name": "stdout",
          "output_type": "stream",
          "text": [
            "5.730084243089018\n"
          ]
        }
      ],
      "source": [
        "### Ridge Regression - Model 3\n",
        "from sklearn.preprocessing import StandardScaler\n",
        "from sklearn.model_selection import train_test_split\n",
        "from sklearn.linear_model import Ridge\n",
        "std_scale = StandardScaler()\n",
        "X=std_scale.fit_transform(X)\n",
        "X_Train,X_Test,Y_Train, Y_Test = train_test_split(X,Y,test_size=0.2)\n",
        "ridge=Ridge(alpha=0.01,normalize=False)\n",
        "ridge.fit(X_Train, Y_Train)\n",
        "Y_Pred_ridge = ridge.predict(X_Test)\n",
        "ridge.score(X_Test,Y_Test)\n",
        "from sklearn import metrics\n",
        "mae_ridge = metrics.mean_absolute_error(Y_Test,Y_Pred_ridge)\n",
        "print (mae_ridge)"
      ]
    },
    {
      "cell_type": "code",
      "execution_count": 33,
      "metadata": {
        "colab": {
          "base_uri": "https://localhost:8080/",
          "height": 265
        },
        "id": "blPRGKKJYNOQ",
        "outputId": "c83d0c97-caf3-42a3-c918-87e404111bdc"
      },
      "outputs": [
        {
          "data": {
            "image/png": "[encoded data removed]",
            "text/plain": [
              "<Figure size 432x288 with 1 Axes>"
            ]
          },
          "metadata": {
            "needs_background": "light"
          },
          "output_type": "display_data"
        }
      ],
      "source": [
        "import matplotlib.pyplot as plt\n",
        "plt.scatter(X_Test[:,8],Y_Test,color='b')\n",
        "plt.plot(X_Test[:,8],Y_Pred_ridge,color='k')\n",
        "plt.show()"
      ]
    },
    {
      "cell_type": "code",
      "execution_count": 34,
      "metadata": {
        "colab": {
          "base_uri": "https://localhost:8080/"
        },
        "id": "19mTLX1-QpZd",
        "outputId": "6eb516e7-b631-4c8c-cc13-ed2c2386dc34"
      },
      "outputs": [
        {
          "name": "stdout",
          "output_type": "stream",
          "text": [
            "0.0018002518196557314\n"
          ]
        }
      ],
      "source": [
        "### Decision Tree - Model 4\n",
        "from sklearn.model_selection import train_test_split\n",
        "from sklearn.tree import DecisionTreeRegressor\n",
        "X_Train,X_Test,Y_Train, Y_Test = train_test_split(X,Y,test_size=0.2)\n",
        "tree_reg = DecisionTreeRegressor(random_state=0)\n",
        "tree_reg.fit(X_Train,Y_Train)\n",
        "Y_Pred_tree = tree_reg.predict(X_Test)\n",
        "tree_reg.score(X_Test,Y_Test)\n",
        "from sklearn import metrics\n",
        "mae_tree = metrics.mean_absolute_error(Y_Test,Y_Pred_tree)\n",
        "print (mae_tree)"
      ]
    },
    {
      "cell_type": "code",
      "execution_count": 39,
      "metadata": {
        "colab": {
          "base_uri": "https://localhost:8080/",
          "height": 265
        },
        "id": "7KlfpjvkYQRA",
        "outputId": "335c74bb-3be1-4941-d0b0-dc8547f3b1e2"
      },
      "outputs": [
        {
          "data": {
            "image/png": "[encoded data removed]",
            "text/plain": [
              "<Figure size 432x288 with 1 Axes>"
            ]
          },
          "metadata": {
            "needs_background": "light"
          },
          "output_type": "display_data"
        }
      ],
      "source": [
        "import matplotlib.pyplot as plt\n",
        "plt.scatter(X_Test[:,8],Y_Test,color='b')\n",
        "plt.plot(X_Test[:,8],Y_Pred_tree,color='k')\n",
        "plt.show()"
      ]
    },
    {
      "cell_type": "code",
      "execution_count": 40,
      "metadata": {
        "colab": {
          "base_uri": "https://localhost:8080/"
        },
        "id": "XJhH7fxsQ2fK",
        "outputId": "935e33e9-ff45-4a7b-859d-8b46846c7bd0"
      },
      "outputs": [
        {
          "name": "stdout",
          "output_type": "stream",
          "text": [
            "0.004735848080306325\n"
          ]
        }
      ],
      "source": [
        "### Random Forrest - Model 5\n",
        "from sklearn.model_selection import train_test_split\n",
        "from sklearn.ensemble import RandomForestRegressor\n",
        "X_Train,X_Test,Y_Train, Y_Test = train_test_split(X,Y,test_size=0.2)\n",
        "forest_reg = RandomForestRegressor(n_estimators=10,random_state=0)\n",
        "forest_reg.fit(X_Train,Y_Train)\n",
        "Y_Pred_forest = forest_reg.predict(X_Test)\n",
        "forest_reg.score(X_Test,Y_Test)\n",
        "from sklearn import metrics\n",
        "mae_forest = metrics.mean_absolute_error(Y_Test,Y_Pred_forest)\n",
        "print (mae_forest)"
      ]
    },
    {
      "cell_type": "code",
      "execution_count": 41,
      "metadata": {
        "colab": {
          "base_uri": "https://localhost:8080/",
          "height": 265
        },
        "id": "LvMSZJrHYcIp",
        "outputId": "e17ec0f8-0ec9-49ce-84da-ff9b9fb196cd"
      },
      "outputs": [
        {
          "data": {
            "image/png": "[encoded data removed]",
            "text/plain": [
              "<Figure size 432x288 with 1 Axes>"
            ]
          },
          "metadata": {
            "needs_background": "light"
          },
          "output_type": "display_data"
        }
      ],
      "source": [
        "import matplotlib.pyplot as plt\n",
        "plt.scatter(X_Test[:,8],Y_Test,color='b')\n",
        "plt.plot(X_Test[:,8],Y_Pred_forest,color='k')\n",
        "plt.show()"
      ]
    }
  ],
  "metadata": {
    "colab": {
      "provenance": []
    },
    "kernelspec": {
      "display_name": "Python 3",
      "name": "python3"
    },
    "language_info": {
      "name": "python"
    }
  },
  "nbformat": 4,
  "nbformat_minor": 0
}
